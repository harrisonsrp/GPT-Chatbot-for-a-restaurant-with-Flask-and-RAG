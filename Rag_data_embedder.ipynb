{
 "cells": [
  {
   "cell_type": "code",
   "execution_count": 1,
   "metadata": {},
   "outputs": [],
   "source": [
    "import json\n",
    "import numpy as np\n",
    "import sentence_normalizer\n",
    "import sentence_embedder"
   ]
  },
  {
   "cell_type": "code",
   "execution_count": 2,
   "metadata": {},
   "outputs": [],
   "source": [
    "def generate_embeddings():\n",
    "    with open(r\"RAG_data\\intent_dataset.json\") as file:\n",
    "        rag_data = json.load(file)\n",
    "    embedded_data = []\n",
    "    for intent in rag_data['intents']:\n",
    "        for pattern in intent['patterns']:\n",
    "            #clean the patterns\n",
    "            pattern = sentence_normalizer.preprocess_main(pattern)\n",
    "            #embedd the patterns\n",
    "            embedded_sentence = sentence_embedder.embed_sentence(pattern)\n",
    "            embedded_data.append(embedded_sentence.last_hidden_state.mean(dim=1).squeeze().numpy())\n",
    "        intent['patterns'] = np.array(embedded_data).tolist()\n",
    "    return rag_data"
   ]
  },
  {
   "cell_type": "code",
   "execution_count": 3,
   "metadata": {},
   "outputs": [],
   "source": [
    "def save_embeddings_to_json(embeded_data):\n",
    "    rag_embedded_dataset_path = r\"RAG_data\\rag_embedded_dataset.json\"\n",
    "    json_object = json.dumps(embeded_data, indent=4)\n",
    "\n",
    "    with open(rag_embedded_dataset_path, \"w\") as outfile:\n",
    "        outfile.write(json_object)"
   ]
  },
  {
   "cell_type": "code",
   "execution_count": 4,
   "metadata": {},
   "outputs": [],
   "source": [
    "def main():\n",
    "    embeddings = generate_embeddings()\n",
    "    save_embeddings_to_json(embeddings)\n",
    "if __name__ == \"__main__\":\n",
    "    main()"
   ]
  }
 ],
 "metadata": {
  "kernelspec": {
   "display_name": "base",
   "language": "python",
   "name": "python3"
  },
  "language_info": {
   "codemirror_mode": {
    "name": "ipython",
    "version": 3
   },
   "file_extension": ".py",
   "mimetype": "text/x-python",
   "name": "python",
   "nbconvert_exporter": "python",
   "pygments_lexer": "ipython3",
   "version": "3.12.1"
  }
 },
 "nbformat": 4,
 "nbformat_minor": 2
}
