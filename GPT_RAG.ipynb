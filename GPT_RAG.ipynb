{
 "cells": [
  {
   "cell_type": "code",
   "execution_count": 1,
   "metadata": {},
   "outputs": [],
   "source": [
    "import json\n",
    "import gpt_response_generator\n",
    "import intent_classification"
   ]
  },
  {
   "cell_type": "code",
   "execution_count": 2,
   "metadata": {},
   "outputs": [],
   "source": [
    "#Load json embedded dataset\n",
    "rag_embedded_dataset =  r\"RAG_data/rag_embedded_dataset.json\"\n",
    "with open(rag_embedded_dataset, 'r') as file:\n",
    "    rag_embedded_dataset = json.load(file)\n"
   ]
  },
  {
   "cell_type": "code",
   "execution_count": 3,
   "metadata": {},
   "outputs": [],
   "source": [
    "def gpt_rag(gpt_prompt, rag_embedded_dataset):\n",
    "    # predict intent\n",
    "    user_intent = intent_classification.predict_intent(gpt_prompt)\n",
    "    print(f\"User intent is: {user_intent}\")\n",
    "    for intent in rag_embedded_dataset[\"intents\"]:\n",
    "        if user_intent == intent['tag']:\n",
    "            if user_intent == \"general_intent\":\n",
    "                gpt_answer = gpt_response_generator.generate_text(gpt_prompt)\n",
    "                rag_answer = \"none\"\n",
    "                return gpt_answer, rag_answer\n",
    "            elif user_intent == \"not_allowed\":\n",
    "                gpt_answer = \"none\"\n",
    "                rag_answer = intent['responses'][0]\n",
    "                return gpt_answer, rag_answer\n",
    "            else:\n",
    "                gpt_answer = gpt_response_generator.generate_text(gpt_prompt)\n",
    "                rag_answer = intent['responses'][0]\n",
    "                return gpt_answer, rag_answer\n",
    "            \n",
    "        \n"
   ]
  },
  {
   "cell_type": "code",
   "execution_count": 8,
   "metadata": {},
   "outputs": [
    {
     "name": "stdout",
     "output_type": "stream",
     "text": [
      "User intent is: menu\n",
      "We offer  beverages, desserts, vegetarian foods, Vegan foods and kids food\n"
     ]
    }
   ],
   "source": [
    "gpt_prompt = \"What is in your menu?\"\n",
    "gpt_answer, rag_answer = gpt_rag(gpt_prompt, rag_embedded_dataset)\n",
    "\n",
    "if gpt_answer == \"none\":\n",
    "    print(rag_answer)\n",
    "elif rag_answer == \"none\":\n",
    "    print(gpt_answer)\n",
    "elif gpt_answer and rag_answer:\n",
    "    print(gpt_answer + \" \" + rag_answer)"
   ]
  },
  {
   "cell_type": "code",
   "execution_count": null,
   "metadata": {},
   "outputs": [],
   "source": []
  },
  {
   "cell_type": "code",
   "execution_count": null,
   "metadata": {},
   "outputs": [],
   "source": []
  }
 ],
 "metadata": {
  "kernelspec": {
   "display_name": "base",
   "language": "python",
   "name": "python3"
  },
  "language_info": {
   "codemirror_mode": {
    "name": "ipython",
    "version": 3
   },
   "file_extension": ".py",
   "mimetype": "text/x-python",
   "name": "python",
   "nbconvert_exporter": "python",
   "pygments_lexer": "ipython3",
   "version": "3.12.1"
  }
 },
 "nbformat": 4,
 "nbformat_minor": 2
}
